{
 "cells": [
  {
   "cell_type": "markdown",
   "source": [
    "# Demo KFP pipeline"
   ],
   "metadata": {
    "collapsed": false
   }
  },
  {
   "cell_type": "markdown",
   "source": [
    "Install requirements:"
   ],
   "metadata": {
    "collapsed": false
   }
  },
  {
   "cell_type": "code",
   "execution_count": 5,
   "outputs": [],
   "source": [
    "%%bash\n",
    "\n",
    "pip install kfp~=1.8.14"
   ],
   "metadata": {
    "collapsed": false
   }
  },
  {
   "cell_type": "markdown",
   "source": [
    "Imports:"
   ],
   "metadata": {
    "collapsed": false
   }
  },
  {
   "cell_type": "code",
   "execution_count": 1,
   "outputs": [],
   "source": [
    "import warnings\n",
    "warnings.filterwarnings(\"ignore\")\n",
    "\n",
    "import kfp\n",
    "import kfp.dsl as dsl\n",
    "from kfp.aws import use_aws_secret\n",
    "from kfp.v2.dsl import (\n",
    "    component,\n",
    "    Input,\n",
    "    Output,\n",
    "    Dataset,\n",
    "    Metrics,\n",
    "    Artifact,\n",
    "    Model\n",
    ")"
   ],
   "metadata": {
    "collapsed": false
   }
  },
  {
   "cell_type": "markdown",
   "source": [
    "## 1. Connect to client"
   ],
   "metadata": {
    "collapsed": false
   }
  },
  {
   "cell_type": "code",
   "execution_count": 2,
   "outputs": [],
   "source": [
    "client = kfp.Client(host=None)"
   ],
   "metadata": {
    "collapsed": false
   }
  },
  {
   "cell_type": "markdown",
   "source": [
    "If \"**host**\" if left as \"**None**\", it will use the cluster set in in kubectl current-context. E.g.\n",
    "\n",
    "<br>\n",
    "\n",
    "```bash\n",
    "# see current context\n",
    "kubectl config current-context\n",
    "\n",
    "# see all contexts\n",
    "kubectl config get-contexts\n",
    "\n",
    "# set context\n",
    "kubectl config use-context kind-ep\n",
    "```\n",
    "\n",
    "<br>"
   ],
   "metadata": {
    "collapsed": false
   }
  },
  {
   "cell_type": "markdown",
   "source": [
    "## 2. Components\n",
    "\n",
    "There are different ways to define components in KFP. Here, we use the **@component** decorator to define the components as Python function-based components.\n",
    "\n",
    "The **@component** annotation converts the function into a factory function that creates pipeline steps that execute this function. This example also specifies the base container image to run you component in."
   ],
   "metadata": {
    "collapsed": false
   }
  },
  {
   "cell_type": "markdown",
   "source": [
    "Pull data component:"
   ],
   "metadata": {
    "collapsed": false
   }
  },
  {
   "cell_type": "code",
   "execution_count": 3,
   "outputs": [],
   "source": [
    "@component(\n",
    "    base_image=\"python:3.9\",\n",
    "    packages_to_install=[\"pandas\"],\n",
    "    output_component_file='components/pull_data_component.yaml',\n",
    ")\n",
    "def pull_data(url: str, data: Output[Dataset]):\n",
    "    \"\"\"\n",
    "    Pull data component.\n",
    "    \"\"\"\n",
    "    import pandas as pd\n",
    "\n",
    "    df = pd.read_csv(url, sep=\";\")\n",
    "    df.to_csv(data.path, index=None)"
   ],
   "metadata": {
    "collapsed": false
   }
  },
  {
   "cell_type": "markdown",
   "source": [
    "Preprocess component:"
   ],
   "metadata": {
    "collapsed": false
   }
  },
  {
   "cell_type": "code",
   "execution_count": 4,
   "outputs": [],
   "source": [
    "@component(\n",
    "    base_image=\"python:3.9\",\n",
    "    packages_to_install=[\"pandas\", \"scikit-learn\"],\n",
    "    output_component_file='components/preprocess_component.yaml',\n",
    ")\n",
    "def preprocess(\n",
    "    data: Input[Dataset],\n",
    "    scaler_out: Output[Artifact],\n",
    "    train_set: Output[Dataset],\n",
    "    test_set: Output[Dataset],\n",
    "    target: str = \"quality\",\n",
    "):\n",
    "    \"\"\"\n",
    "    Preprocess component.\n",
    "    \"\"\"\n",
    "    import pandas as pd\n",
    "    import pickle\n",
    "    from sklearn.model_selection import train_test_split\n",
    "    from sklearn.preprocessing import StandardScaler\n",
    "\n",
    "    data = pd.read_csv(data.path)\n",
    "\n",
    "    # Split the data into training and test sets. (0.75, 0.25) split.\n",
    "    train, test = train_test_split(data)\n",
    "\n",
    "    scaler = StandardScaler()\n",
    "\n",
    "    train[train.drop(target, axis=1).columns] = scaler.fit_transform(train.drop(target, axis=1))\n",
    "    test[test.drop(target, axis=1).columns] = scaler.transform(test.drop(target, axis=1))\n",
    "\n",
    "    with open(scaler_out.path, 'wb') as fp:\n",
    "        pickle.dump(scaler, fp, pickle.HIGHEST_PROTOCOL)\n",
    "\n",
    "    train.to_csv(train_set.path, index=None)\n",
    "    test.to_csv(test_set.path, index=None)"
   ],
   "metadata": {
    "collapsed": false
   }
  },
  {
   "cell_type": "markdown",
   "source": [
    "Train component:"
   ],
   "metadata": {
    "collapsed": false
   }
  },
  {
   "cell_type": "code",
   "execution_count": 5,
   "outputs": [],
   "source": [
    "from typing import NamedTuple\n",
    "\n",
    "@component(\n",
    "    base_image=\"python:3.8\",\n",
    "    packages_to_install=[\"numpy\", \"pandas\", \"scikit-learn\", \"mlflow~=1.22.0\", \"boto3\"],\n",
    "    output_component_file='components/train_component.yaml',\n",
    ")\n",
    "def train(\n",
    "    train_set: Input[Dataset],\n",
    "    test_set: Input[Dataset],\n",
    "    saved_model: Output[Model],\n",
    "    mlflow_experiment_name: str,\n",
    "    mlflow_tracking_uri: str,\n",
    "    mlflow_s3_endpoint_url: str,\n",
    "    model_name: str,\n",
    "    alpha: float,\n",
    "    l1_ratio: float,\n",
    "    target: str = \"quality\",\n",
    ") -> NamedTuple(\"Output\", [('storage_uri', str), ('run_id', str),]):\n",
    "    \"\"\"\n",
    "    Train component.\n",
    "    \"\"\"\n",
    "    import numpy as np\n",
    "    import pandas as pd\n",
    "    from sklearn.linear_model import ElasticNet\n",
    "    from sklearn.metrics import mean_squared_error, mean_absolute_error, r2_score\n",
    "    import mlflow\n",
    "    import mlflow.sklearn\n",
    "    import os\n",
    "    import logging\n",
    "    import pickle\n",
    "    from collections import namedtuple\n",
    "\n",
    "    logging.basicConfig(level=logging.INFO)\n",
    "    logger = logging.getLogger(__name__)\n",
    "\n",
    "    def eval_metrics(actual, pred):\n",
    "        rmse = np.sqrt(mean_squared_error(actual, pred))\n",
    "        mae = mean_absolute_error(actual, pred)\n",
    "        r2 = r2_score(actual, pred)\n",
    "        return rmse, mae, r2\n",
    "\n",
    "    os.environ['MLFLOW_S3_ENDPOINT_URL'] = mlflow_s3_endpoint_url\n",
    "\n",
    "    # load data\n",
    "    train = pd.read_csv(train_set.path)\n",
    "    test = pd.read_csv(test_set.path)\n",
    "\n",
    "    # The predicted column is \"quality\" which is a scalar from [3, 9]\n",
    "    train_x = train.drop([target], axis=1)\n",
    "    test_x = test.drop([target], axis=1)\n",
    "    train_y = train[[target]]\n",
    "    test_y = test[[target]]\n",
    "\n",
    "    logger.info(f\"Using MLflow tracking URI: {mlflow_tracking_uri}\")\n",
    "    mlflow.set_tracking_uri(mlflow_tracking_uri)\n",
    "\n",
    "    logger.info(f\"Using MLflow experiment: {mlflow_experiment_name}\")\n",
    "    mlflow.set_experiment(mlflow_experiment_name)\n",
    "\n",
    "    with mlflow.start_run() as run:\n",
    "\n",
    "        run_id = run.info.run_id\n",
    "        logger.info(f\"Run ID: {run_id}\")\n",
    "\n",
    "        model = ElasticNet(alpha=alpha, l1_ratio=l1_ratio, random_state=42)\n",
    "\n",
    "        logger.info(\"Fitting model...\")\n",
    "        model.fit(train_x, train_y)\n",
    "\n",
    "        logger.info(\"Predicting...\")\n",
    "        predicted_qualities = model.predict(test_x)\n",
    "\n",
    "        (rmse, mae, r2) = eval_metrics(test_y, predicted_qualities)\n",
    "\n",
    "        logger.info(\"Elasticnet model (alpha=%f, l1_ratio=%f):\" % (alpha, l1_ratio))\n",
    "        logger.info(\"  RMSE: %s\" % rmse)\n",
    "        logger.info(\"  MAE: %s\" % mae)\n",
    "        logger.info(\"  R2: %s\" % r2)\n",
    "\n",
    "        logger.info(\"Logging parameters to MLflow\")\n",
    "        mlflow.log_param(\"alpha\", alpha)\n",
    "        mlflow.log_param(\"l1_ratio\", l1_ratio)\n",
    "        mlflow.log_metric(\"rmse\", rmse)\n",
    "        mlflow.log_metric(\"r2\", r2)\n",
    "        mlflow.log_metric(\"mae\", mae)\n",
    "\n",
    "        # save model to mlflow\n",
    "        logger.info(\"Logging trained model\")\n",
    "        mlflow.sklearn.log_model(\n",
    "            model,\n",
    "            model_name,\n",
    "            registered_model_name=\"ElasticnetWineModel\",\n",
    "            serialization_format=\"pickle\"\n",
    "        )\n",
    "\n",
    "        logger.info(\"Logging predictions artifact to MLflow\")\n",
    "        np.save(\"predictions.npy\", predicted_qualities)\n",
    "        mlflow.log_artifact(\n",
    "        local_path=\"predictions.npy\", artifact_path=\"predicted_qualities/\"\n",
    "        )\n",
    "\n",
    "        # save model as KFP artifact\n",
    "        logging.info(f\"Saving model to: {saved_model.path}\")\n",
    "        with open(saved_model.path, 'wb') as fp:\n",
    "            pickle.dump(model, fp, pickle.HIGHEST_PROTOCOL)\n",
    "\n",
    "        # prepare output\n",
    "        output = namedtuple('Output', ['storage_uri', 'run_id'])\n",
    "\n",
    "        # return str(mlflow.get_artifact_uri())\n",
    "        return output(mlflow.get_artifact_uri(), run_id)"
   ],
   "metadata": {
    "collapsed": false
   }
  },
  {
   "cell_type": "markdown",
   "source": [
    "Evaluate component:"
   ],
   "metadata": {
    "collapsed": false
   }
  },
  {
   "cell_type": "code",
   "execution_count": 6,
   "outputs": [],
   "source": [
    "@component(\n",
    "    base_image=\"python:3.9\",\n",
    "    packages_to_install=[\"mlflow~=1.22.0\"],\n",
    "    output_component_file='components/evaluate_component.yaml',\n",
    ")\n",
    "def evaluate(\n",
    "    run_id: str,\n",
    "    mlflow_tracking_uri: str,\n",
    "    threshold_metrics: dict\n",
    ") -> bool:\n",
    "    \"\"\"\n",
    "    Evaluate component: Compares metrics from training with given thresholds.\n",
    "\n",
    "    Args:\n",
    "        run_id (string):  MLflow run ID\n",
    "        mlflow_tracking_uri (string): MLflow tracking URI\n",
    "        threshold_metrics (dict): Minimum threshold values for each metric\n",
    "    Returns:\n",
    "        Bool indicating whether evaluation passed or failed.\n",
    "    \"\"\"\n",
    "    from mlflow.tracking import MlflowClient\n",
    "    import logging\n",
    "\n",
    "    logging.basicConfig(level=logging.INFO)\n",
    "    logger = logging.getLogger(__name__)\n",
    "\n",
    "    client = MlflowClient(tracking_uri=mlflow_tracking_uri)\n",
    "    info = client.get_run(run_id)\n",
    "    training_metrics = info.data.metrics\n",
    "\n",
    "    logger.info(f\"Training metrics: {training_metrics}\")\n",
    "\n",
    "    # compare the evaluation metrics with the defined thresholds\n",
    "    for key, value in threshold_metrics.items():\n",
    "        if key not in training_metrics or training_metrics[key] > value:\n",
    "            logger.error(f\"Metric {key} failed. Evaluation not passed!\")\n",
    "            return False\n",
    "    return True"
   ],
   "metadata": {
    "collapsed": false
   }
  },
  {
   "cell_type": "markdown",
   "source": [
    "Deploy model component:"
   ],
   "metadata": {
    "collapsed": false
   }
  },
  {
   "cell_type": "code",
   "execution_count": 7,
   "outputs": [],
   "source": [
    "@component(\n",
    "    base_image=\"python:3.9\",\n",
    "    packages_to_install=[\"kserve\"],\n",
    "    output_component_file='components/deploy_model_component.yaml',\n",
    ")\n",
    "def deploy_model(model_name: str, storage_uri: str):\n",
    "    \"\"\"\n",
    "    Deploy the model as a inference service with Kserve.\n",
    "    \"\"\"\n",
    "    from kubernetes import client\n",
    "    from kserve import KServeClient\n",
    "    from kserve import constants\n",
    "    from kserve import V1beta1InferenceService\n",
    "    from kserve import V1beta1InferenceServiceSpec\n",
    "    from kserve import V1beta1PredictorSpec\n",
    "    from kserve import V1beta1SKLearnSpec\n",
    "    import logging\n",
    "\n",
    "    logging.basicConfig(level=logging.INFO)\n",
    "    logger = logging.getLogger(__name__)\n",
    "\n",
    "    model_uri = f\"{storage_uri}/{model_name}\"\n",
    "    logger.info(\"MODEL URI:\", model_uri)\n",
    "\n",
    "    namespace = 'kserve-inference'\n",
    "    kserve_version='v1beta1'\n",
    "    api_version = constants.KSERVE_GROUP + '/' + kserve_version\n",
    "\n",
    "    isvc = V1beta1InferenceService(\n",
    "        api_version=api_version,\n",
    "        kind=constants.KSERVE_KIND,\n",
    "        metadata=client.V1ObjectMeta(\n",
    "            name=model_name,\n",
    "            namespace=namespace,\n",
    "            annotations={'sidecar.istio.io/inject':'false'}\n",
    "        ),\n",
    "        spec=V1beta1InferenceServiceSpec(\n",
    "            predictor=V1beta1PredictorSpec(\n",
    "                service_account_name=\"kserve-sa\",\n",
    "                sklearn=V1beta1SKLearnSpec(\n",
    "                    storage_uri=model_uri\n",
    "                )\n",
    "            )\n",
    "        )\n",
    "    )\n",
    "    KServe = KServeClient()\n",
    "    KServe.create(isvc)"
   ],
   "metadata": {
    "collapsed": false
   }
  },
  {
   "cell_type": "markdown",
   "source": [
    "Inference component:"
   ],
   "metadata": {
    "collapsed": false
   }
  },
  {
   "cell_type": "code",
   "execution_count": 8,
   "outputs": [],
   "source": [
    "@component(\n",
    "    base_image=\"python:3.9\",\n",
    "    packages_to_install=[\"kserve\", \"scikit-learn\"],\n",
    "    output_component_file='components/inference_component.yaml',\n",
    ")\n",
    "def inference(\n",
    "    model_name: str,\n",
    "    scaler_in: Input[Artifact]\n",
    "):\n",
    "    \"\"\"\n",
    "    Test inference.\n",
    "    \"\"\"\n",
    "    from kserve import KServeClient\n",
    "    import requests\n",
    "    import pickle\n",
    "    import logging\n",
    "\n",
    "    logging.basicConfig(level=logging.INFO)\n",
    "    logger = logging.getLogger(__name__)\n",
    "\n",
    "    namespace = 'kserve-inference'\n",
    "\n",
    "    input_sample = [[5.6, 0.54, 0.04, 1.7, 0.049, 5, 13, 0.9942, 3.72, 0.58, 11.4],\n",
    "                    [11.3, 0.34, 0.45, 2, 0.082, 6, 15, 0.9988, 2.94, 0.66, 9.2]]\n",
    "\n",
    "    logger.info(f\"Loading standard scaler from: {scaler_in.path}\")\n",
    "    with open(scaler_in.path, 'rb') as fp:\n",
    "        scaler = pickle.load(fp)\n",
    "\n",
    "    logger.info(f\"Standardizing sample: {scaler_in.path}\")\n",
    "    input_sample = scaler.transform(input_sample)\n",
    "\n",
    "    # get inference service\n",
    "    KServe = KServeClient()\n",
    "\n",
    "    # wait for deployment to be ready\n",
    "    KServe.get(model_name, namespace=namespace, watch=True, timeout_seconds=120)\n",
    "\n",
    "    inference_service = KServe.get(model_name, namespace=namespace)\n",
    "    is_url = inference_service['status']['address']['url']\n",
    "\n",
    "    logger.info(f\"\\nInference service status:\\n{inference_service['status']}\")\n",
    "    logger.info(f\"\\nInference service URL:\\n{is_url}\\n\")\n",
    "\n",
    "    inference_input = {\n",
    "          'instances': input_sample.tolist()\n",
    "        }\n",
    "\n",
    "    response = requests.post(is_url, json=inference_input)\n",
    "    logger.info(f\"\\nPrediction response:\\n{response.text}\\n\")"
   ],
   "metadata": {
    "collapsed": false
   }
  },
  {
   "cell_type": "markdown",
   "source": [
    "## 3. Pipeline\n",
    "\n",
    "Pipeline definition:"
   ],
   "metadata": {
    "collapsed": false
   }
  },
  {
   "cell_type": "code",
   "execution_count": 9,
   "outputs": [],
   "source": [
    "@dsl.pipeline(\n",
    "      name='demo-pipeline',\n",
    "      description='An example pipeline that performs addition calculations.',\n",
    ")\n",
    "def pipeline(\n",
    "    url: str,\n",
    "    target: str,\n",
    "    mlflow_experiment_name: str,\n",
    "    mlflow_tracking_uri: str,\n",
    "    mlflow_s3_endpoint_url: str,\n",
    "    model_name: str,\n",
    "    alpha: float,\n",
    "    l1_ratio: float,\n",
    "    threshold_metrics: dict,\n",
    "):\n",
    "    pull_task = pull_data(url=url)\n",
    "\n",
    "    preprocess_task = preprocess(data=pull_task.outputs[\"data\"])\n",
    "\n",
    "    train_task = train(\n",
    "        train_set=preprocess_task.outputs[\"train_set\"],\n",
    "        test_set=preprocess_task.outputs[\"test_set\"],\n",
    "        target=target,\n",
    "        mlflow_experiment_name=mlflow_experiment_name,\n",
    "        mlflow_tracking_uri=mlflow_tracking_uri,\n",
    "        mlflow_s3_endpoint_url=mlflow_s3_endpoint_url,\n",
    "        model_name=model_name,\n",
    "        alpha=alpha,\n",
    "        l1_ratio=l1_ratio\n",
    "    )\n",
    "    train_task.apply(use_aws_secret(secret_name=\"aws-secret\"))\n",
    "\n",
    "    evaluate_trask = evaluate(\n",
    "        run_id=train_task.outputs[\"run_id\"],\n",
    "        mlflow_tracking_uri=mlflow_tracking_uri,\n",
    "        threshold_metrics=threshold_metrics\n",
    "    )\n",
    "\n",
    "    eval_passed = evaluate_trask.output\n",
    "\n",
    "    with dsl.Condition(eval_passed == \"true\"):\n",
    "        deploy_model_task = deploy_model(\n",
    "            model_name=model_name,\n",
    "            storage_uri=train_task.outputs[\"storage_uri\"],\n",
    "        )\n",
    "\n",
    "        inference_task = inference(\n",
    "            model_name=model_name,\n",
    "            scaler_in=preprocess_task.outputs[\"scaler_out\"]\n",
    "        )\n",
    "        inference_task.after(deploy_model_task)"
   ],
   "metadata": {
    "collapsed": false
   }
  },
  {
   "cell_type": "markdown",
   "source": [
    "Pipeline arguments:"
   ],
   "metadata": {
    "collapsed": false
   }
  },
  {
   "cell_type": "code",
   "execution_count": 10,
   "outputs": [],
   "source": [
    "# Specify pipeline argument values\n",
    "\n",
    "eval_threshold_metrics = {'rmse': 0.9, 'r2': 0.3, 'mae': 0.8}\n",
    "\n",
    "arguments = {\n",
    "    \"url\": \"http://archive.ics.uci.edu/ml/machine-learning-databases/wine-quality/winequality-red.csv\",\n",
    "    \"target\": \"quality\",\n",
    "    \"mlflow_tracking_uri\": \"http://mlflow.mlflow.svc.cluster.local:5000\",\n",
    "    \"mlflow_s3_endpoint_url\": \"http://mlflow-minio-service.mlflow.svc.cluster.local:9000\",\n",
    "    \"mlflow_experiment_name\": \"demo-notebook\",\n",
    "    \"model_name\": \"wine-quality\",\n",
    "    \"alpha\": 0.5,\n",
    "    \"l1_ratio\": 0.5,\n",
    "    \"threshold_metrics\": eval_threshold_metrics\n",
    "}"
   ],
   "metadata": {
    "collapsed": false
   }
  },
  {
   "cell_type": "markdown",
   "source": [
    "## 4. Submit run"
   ],
   "metadata": {
    "collapsed": false
   }
  },
  {
   "cell_type": "code",
   "execution_count": 11,
   "outputs": [
    {
     "data": {
      "text/plain": "<IPython.core.display.HTML object>",
      "text/html": "<a href=\"/pipeline/#/experiments/details/64b88d6c-0e04-4a86-927d-e438bd9797bd\" target=\"_blank\" >Experiment details</a>."
     },
     "metadata": {},
     "output_type": "display_data"
    },
    {
     "data": {
      "text/plain": "<IPython.core.display.HTML object>",
      "text/html": "<a href=\"/pipeline/#/runs/details/f4d33f88-e3b6-4fd7-bd2d-435413d2b81a\" target=\"_blank\" >Run details</a>."
     },
     "metadata": {},
     "output_type": "display_data"
    },
    {
     "data": {
      "text/plain": "RunPipelineResult(run_id=f4d33f88-e3b6-4fd7-bd2d-435413d2b81a)"
     },
     "execution_count": 11,
     "metadata": {},
     "output_type": "execute_result"
    }
   ],
   "source": [
    "run_name = \"demo-run\"\n",
    "experiment_name = \"demo-experiment\"\n",
    "\n",
    "client.create_run_from_pipeline_func(\n",
    "    pipeline_func=pipeline,\n",
    "    run_name=run_name,\n",
    "    experiment_name=experiment_name,\n",
    "    arguments=arguments,\n",
    "    mode=kfp.dsl.PipelineExecutionMode.V2_COMPATIBLE,\n",
    "    enable_caching=True\n",
    ")"
   ],
   "metadata": {
    "collapsed": false
   }
  },
  {
   "cell_type": "markdown",
   "source": [
    "## 5. Check run"
   ],
   "metadata": {
    "collapsed": false
   }
  },
  {
   "cell_type": "markdown",
   "source": [
    "### Kubeflow Pipelines UI\n",
    "\n",
    "To access MLFlow UI, open a terminal and forward a local port to KFP UI server:\n",
    "\n",
    "<br>\n",
    "\n",
    "```bash\n",
    "$ kubectl port-forward -n kubeflow svc/ml-pipeline-ui 8080:80\n",
    "```\n",
    "\n",
    "<br>\n",
    "\n",
    "Now KFP UI should be reachable at [http://localhost:8080/](http://localhost:8080/)."
   ],
   "metadata": {
    "collapsed": false
   }
  },
  {
   "cell_type": "markdown",
   "source": [
    "### MLFlow UI\n",
    "\n",
    "To access MLFlow UI, open a terminal and forward a local port to MLFlow server:\n",
    "\n",
    "<br>\n",
    "\n",
    "```bash\n",
    "$ kubectl -n mlflow port-forward svc/mlflow 5000:5000\n",
    "```\n",
    "\n",
    "<br>\n",
    "\n",
    "Now MLFlow's UI should be reachable at [`http://localhost:5000`](http://localhost:5000)."
   ],
   "metadata": {
    "collapsed": false
   }
  },
  {
   "cell_type": "markdown",
   "source": [
    "## 6. Check deployed model\n",
    "\n",
    "```bash\n",
    "# get inference services\n",
    "kubectl -n kserve-inference get inferenceservice\n",
    "\n",
    "# get deployed model pods\n",
    "kubectl -n kserve-inference get pods\n",
    "\n",
    "# delete inference service\n",
    "kubectl -n kserve-inference delete inferenceservice wine-quality\n",
    "```\n",
    "<br>\n",
    "\n",
    "If something goes wrong, check the logs with:\n",
    "\n",
    "<br>\n",
    "\n",
    "```bash\n",
    "kubectl logs -n kserve-inference <pod-name> kserve-container\n",
    "\n",
    "kubectl logs -n kserve-inference <pod-name> queue-proxy\n",
    "\n",
    "kubectl logs -n kserve-inference <pod-name> storage-initializer\n",
    "```\n"
   ],
   "metadata": {
    "collapsed": false
   }
  }
 ],
 "metadata": {
  "kernelspec": {
   "display_name": "Python 3",
   "language": "python",
   "name": "python3"
  },
  "language_info": {
   "codemirror_mode": {
    "name": "ipython",
    "version": 2
   },
   "file_extension": ".py",
   "mimetype": "text/x-python",
   "name": "python",
   "nbconvert_exporter": "python",
   "pygments_lexer": "ipython2",
   "version": "2.7.6"
  }
 },
 "nbformat": 4,
 "nbformat_minor": 0
}
